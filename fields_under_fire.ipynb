{
  "nbformat": 4,
  "nbformat_minor": 0,
  "metadata": {
    "colab": {
      "provenance": [],
      "authorship_tag": "ABX9TyMQpJ9jvbsuL6XEV6Ycumq7"
    },
    "kernelspec": {
      "name": "python3",
      "display_name": "Python 3"
    },
    "language_info": {
      "name": "python"
    }
  },
  "cells": [
    {
      "cell_type": "markdown",
      "source": [
        "# Fields under fire\n",
        "\n",
        "Determine the grants terminated by fields of study relating to \"LGBTQ+\", \"Transgender health\", \"HIV\" and \"Vaccine hesitancy\" as a proportion of total NIH grants for 2024."
      ],
      "metadata": {
        "id": "1jLX62TXQu39"
      }
    },
    {
      "cell_type": "code",
      "execution_count": 56,
      "metadata": {
        "id": "elBJIPeK4Ij1"
      },
      "outputs": [],
      "source": [
        "# Setup\n",
        "import pandas as pd\n",
        "import matplotlib.pyplot as plt\n",
        "import matplotlib.ticker as ticker"
      ]
    },
    {
      "cell_type": "code",
      "source": [
        "df_airtable = pd.read_csv(\"/content/2024-04-09-nih_terminations_airtable.csv\")\n",
        "total_airtable_count = len(df_airtable)\n",
        "print(f\"There are {total_airtable_count} rows in the Airtable dataframe.\")"
      ],
      "metadata": {
        "colab": {
          "base_uri": "https://localhost:8080/"
        },
        "id": "yDhrtPyi7VZO",
        "outputId": "9e8b28e4-246b-47eb-9b9c-bc86a7e69351"
      },
      "execution_count": 57,
      "outputs": [
        {
          "output_type": "stream",
          "name": "stdout",
          "text": [
            "There are 772 rows in the Airtable dataframe.\n"
          ]
        }
      ]
    },
    {
      "cell_type": "code",
      "source": [
        "# Drop rows where 'fiscal_year' is not 2024\n",
        "df_airtable_2014 = df_airtable[df_airtable['fiscal_year'] == 2024]"
      ],
      "metadata": {
        "id": "y5ttwGDQ7O2L"
      },
      "execution_count": 58,
      "outputs": []
    },
    {
      "cell_type": "code",
      "source": [
        "df_airtable_2014['fiscal_year'].value_counts()"
      ],
      "metadata": {
        "colab": {
          "base_uri": "https://localhost:8080/",
          "height": 147
        },
        "id": "SIGf5uIk7Q6n",
        "outputId": "eef3f265-f768-4652-a686-9904dc619ae2"
      },
      "execution_count": 59,
      "outputs": [
        {
          "output_type": "execute_result",
          "data": {
            "text/plain": [
              "fiscal_year\n",
              "2024    514\n",
              "Name: count, dtype: int64"
            ],
            "text/html": [
              "<div>\n",
              "<style scoped>\n",
              "    .dataframe tbody tr th:only-of-type {\n",
              "        vertical-align: middle;\n",
              "    }\n",
              "\n",
              "    .dataframe tbody tr th {\n",
              "        vertical-align: top;\n",
              "    }\n",
              "\n",
              "    .dataframe thead th {\n",
              "        text-align: right;\n",
              "    }\n",
              "</style>\n",
              "<table border=\"1\" class=\"dataframe\">\n",
              "  <thead>\n",
              "    <tr style=\"text-align: right;\">\n",
              "      <th></th>\n",
              "      <th>count</th>\n",
              "    </tr>\n",
              "    <tr>\n",
              "      <th>fiscal_year</th>\n",
              "      <th></th>\n",
              "    </tr>\n",
              "  </thead>\n",
              "  <tbody>\n",
              "    <tr>\n",
              "      <th>2024</th>\n",
              "      <td>514</td>\n",
              "    </tr>\n",
              "  </tbody>\n",
              "</table>\n",
              "</div><br><label><b>dtype:</b> int64</label>"
            ]
          },
          "metadata": {},
          "execution_count": 59
        }
      ]
    },
    {
      "cell_type": "code",
      "source": [
        "# Drop rows were 'project_type' is not 'Full grant'\n",
        "df_airtable_full_grant = df_airtable_2014[df_airtable_2014['project_type'] == 'Full grant']"
      ],
      "metadata": {
        "id": "GtbrkJKr5Vp3"
      },
      "execution_count": 5,
      "outputs": []
    },
    {
      "cell_type": "code",
      "source": [
        "df_airtable_full_grant['project_type'].value_counts()"
      ],
      "metadata": {
        "colab": {
          "base_uri": "https://localhost:8080/",
          "height": 147
        },
        "id": "JKEj62uS4Zw7",
        "outputId": "14203a43-9a55-4727-a4b8-30f3ce90c408"
      },
      "execution_count": 60,
      "outputs": [
        {
          "output_type": "execute_result",
          "data": {
            "text/plain": [
              "project_type\n",
              "Full grant    497\n",
              "Name: count, dtype: int64"
            ],
            "text/html": [
              "<div>\n",
              "<style scoped>\n",
              "    .dataframe tbody tr th:only-of-type {\n",
              "        vertical-align: middle;\n",
              "    }\n",
              "\n",
              "    .dataframe tbody tr th {\n",
              "        vertical-align: top;\n",
              "    }\n",
              "\n",
              "    .dataframe thead th {\n",
              "        text-align: right;\n",
              "    }\n",
              "</style>\n",
              "<table border=\"1\" class=\"dataframe\">\n",
              "  <thead>\n",
              "    <tr style=\"text-align: right;\">\n",
              "      <th></th>\n",
              "      <th>count</th>\n",
              "    </tr>\n",
              "    <tr>\n",
              "      <th>project_type</th>\n",
              "      <th></th>\n",
              "    </tr>\n",
              "  </thead>\n",
              "  <tbody>\n",
              "    <tr>\n",
              "      <th>Full grant</th>\n",
              "      <td>497</td>\n",
              "    </tr>\n",
              "  </tbody>\n",
              "</table>\n",
              "</div><br><label><b>dtype:</b> int64</label>"
            ]
          },
          "metadata": {},
          "execution_count": 60
        }
      ]
    },
    {
      "cell_type": "code",
      "source": [
        "# Drop all columns except 'project_title', 'abstract_text', 'project_type' and 'fiscal_year'\n",
        "df_airtable_edit = df_airtable_full_grant[['project_title', 'abstract_text', 'project_type', 'fiscal_year']]"
      ],
      "metadata": {
        "id": "3znPjiS24oWk"
      },
      "execution_count": 61,
      "outputs": []
    },
    {
      "cell_type": "code",
      "source": [
        "df_airtable_edit.head()"
      ],
      "metadata": {
        "colab": {
          "base_uri": "https://localhost:8080/",
          "height": 206
        },
        "id": "RyWSUz5r5Por",
        "outputId": "e7566f56-39a0-4b44-a75e-557a59021606"
      },
      "execution_count": 62,
      "outputs": [
        {
          "output_type": "execute_result",
          "data": {
            "text/plain": [
              "                                       project_title  \\\n",
              "0  Investigating and identifying the heterogeneit...   \n",
              "1  Cabotegravir PrEP: Actionable Robust Evidence ...   \n",
              "2  Sexual orientation-related disparities in obst...   \n",
              "3  Trial of Human Milk Oligosaccharide-based synb...   \n",
              "4  NY Community-Hospital-Academic Maternal Health...   \n",
              "\n",
              "                                       abstract_text project_type  fiscal_year  \n",
              "0  PROJECT SUMMARY/ ABSTRACT In the midst of the ...   Full grant         2024  \n",
              "1  PROJECT SUMMARY Despite high efficacy, oral pr...   Full grant         2024  \n",
              "2  PROJECT SUMMARY/ABSTRACT  Compared to heterose...   Full grant         2024  \n",
              "3  Project Summary HIV-exposed uninfected (HEU) i...   Full grant         2024  \n",
              "4  OVERALL: PROJECT SUMMARY/ABSTRACT The broad go...   Full grant         2024  "
            ],
            "text/html": [
              "\n",
              "  <div id=\"df-b17087e1-3127-49a7-9292-6b3ce88054c1\" class=\"colab-df-container\">\n",
              "    <div>\n",
              "<style scoped>\n",
              "    .dataframe tbody tr th:only-of-type {\n",
              "        vertical-align: middle;\n",
              "    }\n",
              "\n",
              "    .dataframe tbody tr th {\n",
              "        vertical-align: top;\n",
              "    }\n",
              "\n",
              "    .dataframe thead th {\n",
              "        text-align: right;\n",
              "    }\n",
              "</style>\n",
              "<table border=\"1\" class=\"dataframe\">\n",
              "  <thead>\n",
              "    <tr style=\"text-align: right;\">\n",
              "      <th></th>\n",
              "      <th>project_title</th>\n",
              "      <th>abstract_text</th>\n",
              "      <th>project_type</th>\n",
              "      <th>fiscal_year</th>\n",
              "    </tr>\n",
              "  </thead>\n",
              "  <tbody>\n",
              "    <tr>\n",
              "      <th>0</th>\n",
              "      <td>Investigating and identifying the heterogeneit...</td>\n",
              "      <td>PROJECT SUMMARY/ ABSTRACT In the midst of the ...</td>\n",
              "      <td>Full grant</td>\n",
              "      <td>2024</td>\n",
              "    </tr>\n",
              "    <tr>\n",
              "      <th>1</th>\n",
              "      <td>Cabotegravir PrEP: Actionable Robust Evidence ...</td>\n",
              "      <td>PROJECT SUMMARY Despite high efficacy, oral pr...</td>\n",
              "      <td>Full grant</td>\n",
              "      <td>2024</td>\n",
              "    </tr>\n",
              "    <tr>\n",
              "      <th>2</th>\n",
              "      <td>Sexual orientation-related disparities in obst...</td>\n",
              "      <td>PROJECT SUMMARY/ABSTRACT  Compared to heterose...</td>\n",
              "      <td>Full grant</td>\n",
              "      <td>2024</td>\n",
              "    </tr>\n",
              "    <tr>\n",
              "      <th>3</th>\n",
              "      <td>Trial of Human Milk Oligosaccharide-based synb...</td>\n",
              "      <td>Project Summary HIV-exposed uninfected (HEU) i...</td>\n",
              "      <td>Full grant</td>\n",
              "      <td>2024</td>\n",
              "    </tr>\n",
              "    <tr>\n",
              "      <th>4</th>\n",
              "      <td>NY Community-Hospital-Academic Maternal Health...</td>\n",
              "      <td>OVERALL: PROJECT SUMMARY/ABSTRACT The broad go...</td>\n",
              "      <td>Full grant</td>\n",
              "      <td>2024</td>\n",
              "    </tr>\n",
              "  </tbody>\n",
              "</table>\n",
              "</div>\n",
              "    <div class=\"colab-df-buttons\">\n",
              "\n",
              "  <div class=\"colab-df-container\">\n",
              "    <button class=\"colab-df-convert\" onclick=\"convertToInteractive('df-b17087e1-3127-49a7-9292-6b3ce88054c1')\"\n",
              "            title=\"Convert this dataframe to an interactive table.\"\n",
              "            style=\"display:none;\">\n",
              "\n",
              "  <svg xmlns=\"http://www.w3.org/2000/svg\" height=\"24px\" viewBox=\"0 -960 960 960\">\n",
              "    <path d=\"M120-120v-720h720v720H120Zm60-500h600v-160H180v160Zm220 220h160v-160H400v160Zm0 220h160v-160H400v160ZM180-400h160v-160H180v160Zm440 0h160v-160H620v160ZM180-180h160v-160H180v160Zm440 0h160v-160H620v160Z\"/>\n",
              "  </svg>\n",
              "    </button>\n",
              "\n",
              "  <style>\n",
              "    .colab-df-container {\n",
              "      display:flex;\n",
              "      gap: 12px;\n",
              "    }\n",
              "\n",
              "    .colab-df-convert {\n",
              "      background-color: #E8F0FE;\n",
              "      border: none;\n",
              "      border-radius: 50%;\n",
              "      cursor: pointer;\n",
              "      display: none;\n",
              "      fill: #1967D2;\n",
              "      height: 32px;\n",
              "      padding: 0 0 0 0;\n",
              "      width: 32px;\n",
              "    }\n",
              "\n",
              "    .colab-df-convert:hover {\n",
              "      background-color: #E2EBFA;\n",
              "      box-shadow: 0px 1px 2px rgba(60, 64, 67, 0.3), 0px 1px 3px 1px rgba(60, 64, 67, 0.15);\n",
              "      fill: #174EA6;\n",
              "    }\n",
              "\n",
              "    .colab-df-buttons div {\n",
              "      margin-bottom: 4px;\n",
              "    }\n",
              "\n",
              "    [theme=dark] .colab-df-convert {\n",
              "      background-color: #3B4455;\n",
              "      fill: #D2E3FC;\n",
              "    }\n",
              "\n",
              "    [theme=dark] .colab-df-convert:hover {\n",
              "      background-color: #434B5C;\n",
              "      box-shadow: 0px 1px 3px 1px rgba(0, 0, 0, 0.15);\n",
              "      filter: drop-shadow(0px 1px 2px rgba(0, 0, 0, 0.3));\n",
              "      fill: #FFFFFF;\n",
              "    }\n",
              "  </style>\n",
              "\n",
              "    <script>\n",
              "      const buttonEl =\n",
              "        document.querySelector('#df-b17087e1-3127-49a7-9292-6b3ce88054c1 button.colab-df-convert');\n",
              "      buttonEl.style.display =\n",
              "        google.colab.kernel.accessAllowed ? 'block' : 'none';\n",
              "\n",
              "      async function convertToInteractive(key) {\n",
              "        const element = document.querySelector('#df-b17087e1-3127-49a7-9292-6b3ce88054c1');\n",
              "        const dataTable =\n",
              "          await google.colab.kernel.invokeFunction('convertToInteractive',\n",
              "                                                    [key], {});\n",
              "        if (!dataTable) return;\n",
              "\n",
              "        const docLinkHtml = 'Like what you see? Visit the ' +\n",
              "          '<a target=\"_blank\" href=https://colab.research.google.com/notebooks/data_table.ipynb>data table notebook</a>'\n",
              "          + ' to learn more about interactive tables.';\n",
              "        element.innerHTML = '';\n",
              "        dataTable['output_type'] = 'display_data';\n",
              "        await google.colab.output.renderOutput(dataTable, element);\n",
              "        const docLink = document.createElement('div');\n",
              "        docLink.innerHTML = docLinkHtml;\n",
              "        element.appendChild(docLink);\n",
              "      }\n",
              "    </script>\n",
              "  </div>\n",
              "\n",
              "\n",
              "<div id=\"df-fe78b51e-4aad-44ff-aed2-3de8516341df\">\n",
              "  <button class=\"colab-df-quickchart\" onclick=\"quickchart('df-fe78b51e-4aad-44ff-aed2-3de8516341df')\"\n",
              "            title=\"Suggest charts\"\n",
              "            style=\"display:none;\">\n",
              "\n",
              "<svg xmlns=\"http://www.w3.org/2000/svg\" height=\"24px\"viewBox=\"0 0 24 24\"\n",
              "     width=\"24px\">\n",
              "    <g>\n",
              "        <path d=\"M19 3H5c-1.1 0-2 .9-2 2v14c0 1.1.9 2 2 2h14c1.1 0 2-.9 2-2V5c0-1.1-.9-2-2-2zM9 17H7v-7h2v7zm4 0h-2V7h2v10zm4 0h-2v-4h2v4z\"/>\n",
              "    </g>\n",
              "</svg>\n",
              "  </button>\n",
              "\n",
              "<style>\n",
              "  .colab-df-quickchart {\n",
              "      --bg-color: #E8F0FE;\n",
              "      --fill-color: #1967D2;\n",
              "      --hover-bg-color: #E2EBFA;\n",
              "      --hover-fill-color: #174EA6;\n",
              "      --disabled-fill-color: #AAA;\n",
              "      --disabled-bg-color: #DDD;\n",
              "  }\n",
              "\n",
              "  [theme=dark] .colab-df-quickchart {\n",
              "      --bg-color: #3B4455;\n",
              "      --fill-color: #D2E3FC;\n",
              "      --hover-bg-color: #434B5C;\n",
              "      --hover-fill-color: #FFFFFF;\n",
              "      --disabled-bg-color: #3B4455;\n",
              "      --disabled-fill-color: #666;\n",
              "  }\n",
              "\n",
              "  .colab-df-quickchart {\n",
              "    background-color: var(--bg-color);\n",
              "    border: none;\n",
              "    border-radius: 50%;\n",
              "    cursor: pointer;\n",
              "    display: none;\n",
              "    fill: var(--fill-color);\n",
              "    height: 32px;\n",
              "    padding: 0;\n",
              "    width: 32px;\n",
              "  }\n",
              "\n",
              "  .colab-df-quickchart:hover {\n",
              "    background-color: var(--hover-bg-color);\n",
              "    box-shadow: 0 1px 2px rgba(60, 64, 67, 0.3), 0 1px 3px 1px rgba(60, 64, 67, 0.15);\n",
              "    fill: var(--button-hover-fill-color);\n",
              "  }\n",
              "\n",
              "  .colab-df-quickchart-complete:disabled,\n",
              "  .colab-df-quickchart-complete:disabled:hover {\n",
              "    background-color: var(--disabled-bg-color);\n",
              "    fill: var(--disabled-fill-color);\n",
              "    box-shadow: none;\n",
              "  }\n",
              "\n",
              "  .colab-df-spinner {\n",
              "    border: 2px solid var(--fill-color);\n",
              "    border-color: transparent;\n",
              "    border-bottom-color: var(--fill-color);\n",
              "    animation:\n",
              "      spin 1s steps(1) infinite;\n",
              "  }\n",
              "\n",
              "  @keyframes spin {\n",
              "    0% {\n",
              "      border-color: transparent;\n",
              "      border-bottom-color: var(--fill-color);\n",
              "      border-left-color: var(--fill-color);\n",
              "    }\n",
              "    20% {\n",
              "      border-color: transparent;\n",
              "      border-left-color: var(--fill-color);\n",
              "      border-top-color: var(--fill-color);\n",
              "    }\n",
              "    30% {\n",
              "      border-color: transparent;\n",
              "      border-left-color: var(--fill-color);\n",
              "      border-top-color: var(--fill-color);\n",
              "      border-right-color: var(--fill-color);\n",
              "    }\n",
              "    40% {\n",
              "      border-color: transparent;\n",
              "      border-right-color: var(--fill-color);\n",
              "      border-top-color: var(--fill-color);\n",
              "    }\n",
              "    60% {\n",
              "      border-color: transparent;\n",
              "      border-right-color: var(--fill-color);\n",
              "    }\n",
              "    80% {\n",
              "      border-color: transparent;\n",
              "      border-right-color: var(--fill-color);\n",
              "      border-bottom-color: var(--fill-color);\n",
              "    }\n",
              "    90% {\n",
              "      border-color: transparent;\n",
              "      border-bottom-color: var(--fill-color);\n",
              "    }\n",
              "  }\n",
              "</style>\n",
              "\n",
              "  <script>\n",
              "    async function quickchart(key) {\n",
              "      const quickchartButtonEl =\n",
              "        document.querySelector('#' + key + ' button');\n",
              "      quickchartButtonEl.disabled = true;  // To prevent multiple clicks.\n",
              "      quickchartButtonEl.classList.add('colab-df-spinner');\n",
              "      try {\n",
              "        const charts = await google.colab.kernel.invokeFunction(\n",
              "            'suggestCharts', [key], {});\n",
              "      } catch (error) {\n",
              "        console.error('Error during call to suggestCharts:', error);\n",
              "      }\n",
              "      quickchartButtonEl.classList.remove('colab-df-spinner');\n",
              "      quickchartButtonEl.classList.add('colab-df-quickchart-complete');\n",
              "    }\n",
              "    (() => {\n",
              "      let quickchartButtonEl =\n",
              "        document.querySelector('#df-fe78b51e-4aad-44ff-aed2-3de8516341df button');\n",
              "      quickchartButtonEl.style.display =\n",
              "        google.colab.kernel.accessAllowed ? 'block' : 'none';\n",
              "    })();\n",
              "  </script>\n",
              "</div>\n",
              "\n",
              "    </div>\n",
              "  </div>\n"
            ],
            "application/vnd.google.colaboratory.intrinsic+json": {
              "type": "dataframe",
              "variable_name": "df_airtable_edit",
              "summary": "{\n  \"name\": \"df_airtable_edit\",\n  \"rows\": 497,\n  \"fields\": [\n    {\n      \"column\": \"project_title\",\n      \"properties\": {\n        \"dtype\": \"string\",\n        \"num_unique_values\": 481,\n        \"samples\": [\n          \"The Roles of Parental Mental Health and Help-Seeking: Utilizing a Family Systems Approach to Upstream Suicide Prevention for Sexual Minority Youth\",\n          \"Associations among maternal stress, infant epigenetics, and behavioral and cognitive development across the first few years of life\",\n          \"Understanding multilevel predictors affecting family formation among sexual and gender minority couples\"\n        ],\n        \"semantic_type\": \"\",\n        \"description\": \"\"\n      }\n    },\n    {\n      \"column\": \"abstract_text\",\n      \"properties\": {\n        \"dtype\": \"string\",\n        \"num_unique_values\": 480,\n        \"samples\": [\n          \"Project Summary Before leaving high school, approximately 1 in 4 sexual minority adolescents will attempt to end their own life; a rate that is nearly four times higher than their heterosexual peers. Social determinants in the family context through parental acceptance or rejection is a major, consistent risk factor. Despite progress in social acceptance of sexual minorities, in 2015 the Pew Research Council noted that 40% of parents reported they would be upset or somewhat upset if their child came out as sexual minority. Parental acceptance is a crucial upstream determinant for sexual minority adolescents\\u2019 wellness, but remarkably scant research has focused on how parents get to acceptance; a vital unanswered question impeding intervention development. The stall in research is partially due to the hard-to-reach nature of the hidden population of parents of sexual minorities. The goal of this sequential explanatory mixed methods project is to explore parents\\u2019 mental health and help-seeking behaviors after their child comes out as sexual minority. With substantial work in social determinants of sexual minority suicide prevention, our team is uniquely positioned to complete the proposed exploratory study, which aligns with the developmental purposes of the R21 mechanism and responds directly to the Notice of Special Interest in Research on Family Support and Rejection in the Health and Well- Being of SGM Populations (NOT-OD-23-166). We aim to (1) compare four strategies to recruit parents of sexual minorities to a brief, online survey about their mental health and help-seeking when their child came out; (2) describe parents\\u2019 mental health after their child\\u2019s coming out and the help- seeking resources parents sought for their mental health to navigate their child\\u2019s coming out; and (3) explore pathways, facilitators, and barriers to parents\\u2019 help-seeking for individual-level and family- level health needs after their child came out, including resources they wished they had and suggestions to improve help-seeking resources. For Aim 1, we will examine the effectiveness of 4 strategies to recruit parents of sexual minority adolescents to complete an online survey to explore mental health (e.g., depressive symptoms, ambiguous loss) and help-seeking behaviors when their child came out. For Aim 2, we will use the survey data from Aim 1 to examine correlates of mental health symptomology, overall help-seeking behaviors, and among specific forms of formal (e.g., medical professional) vs. informal (e.g., pastoral professional) help-seeking behaviors. For Aim 3, we will use semi-structured interviews to deeply explore parents\\u2019 experiences around their mental health and help-seeking behaviors when their child came out to them. Using a family systems perspective to explore the help-seeking needs of parents of sexual minorities opens new avenues for upstream prevention and implementation studies to address health disparities for sexual minorities.\",\n          \"Project Summary  It is estimated that up to 0.6% of the US population is transgender, which describes someone whose gender identity is incompatible with their sex assigned at birth. Gender affirming medical care can include vaginoplasty, which is the surgical creation of a vulva and neovagina. Transgender women have increased odds of testing positive for sexually transmitted infections (STIs) including human immunodeficiency virus (HIV) compared to cisgender women, which is maintained after adjusting for high-risk behaviours, suggesting biological factors unique to the neovaginal microenvironment may contribute to this increased risk. Despite this, little is known about the neovaginal microenvironment, which could have important implications for both post- operative care and long-term mucosal health of people with neovaginas.  The neovaginal microbiome is not well-defined, but typically has greater microbial diversity compared to the natal vaginal microbiome, and contains species that are more typically detected in the penile, intestinal and skin microbiomes. In cisgender women vaginal microbial dysbiosis has been linked to increased genital inflammation, gynecological symptoms, and an increased risk of acquisition of STIs including HIV, but it is unknown if the neovaginal microbiome has a similar impact on gynecological health. A major gap in knowledge is defining the optimal neovaginal microbiome, including an understanding of the colonization and stability, and relationship to gynecological health, which is vital for care of people with neovaginas. Indeed, current post-operative and long-term care recommendations differ greatly between surgical centers. In this proposal we will define the neovaginal microbiome in transgender women who have undergone (\\u201cpost-op\\u201d) or are scheduled to undergo (\\u201cpre-op\\u201d) vaginoplasty, and investigate associations of the microbiome to genital inflammation and clinical outcomes including gynecological symptoms.  This study will be the first to comprehensively profile the neovaginal microenvironment, which is critical to provide evidence-based care guidelines to people with neovaginas.\",\n          \"PROJECT SUMMARY. The proposed study responds to NOT-MD-23-008, which calls for community-engaged interventions to increase vaccine uptake among populations experiencing health disparities. We focus on COVID-19 and influenza vaccination, both of which now require annual vaccines. Among those at highest risk for morbidity, hospitalization, and mortality are African American/Black and Latino (ABBL) persons who are not up-to-date on these vaccinations. Only 20-28% of adult AABL persons are up-to-date on COVID-19 vaccination, compared to 31% of White persons, and only 30-40% of AABL persons receive the influenza vaccine annually compared to >55% among White persons. AABL experience serious impediments to COVID- 19 (and to a lesser extent, influenza) vaccination at individual- (e.g., distrust, insufficient knowledge, low perceived risk, cognitive biases), social- (e.g., peer norms), and structural-levels of influence (e.g., poor access). Taken together, these comprise multi-level vaccine hesitancy. Factors that promote vaccination include trusted AABL health educators (peers, nurses), tapping into altruism and collective responsibility, circumventing cognitive biases, and reducing structural barriers. Without efforts to address multi-level vaccine hesitancy, rates of COVID-19 and influenza vaccination will remain unacceptably low and racial/ethnic health disparities in infectious disease morbidity and mortality will persist. The proposed study is led by a collaborative team at New York University and the Northern Manhattan Improvement Corporation. It uses the multiphase optimization strategy (MOST), an engineering-inspired framework, to test effects of individual candidate intervention components in a factorial design and then optimize a multi-component intervention made up of the most cost-effective combination of components. Staying up-to-date with COVID-19 vaccination (confirmed with documentary evidence) is the primary outcome, and influenza vaccination is the secondary outcome. We have identified four promising candidate components, with an emphasis on brevity, low-touch, and future scalability: A) nurse-led shared decision making, B) a text message intervention, C) modest lottery prizes for vaccination, and D) peer navigation to vaccination appointments. Participants will be N=560 community-residing adult English and Spanish-speaking AABL persons who are not up-to-date on COVID-19 and influenza vaccinations but with at least one COVID-19 vaccine dose. Specific aims are: Aim 1) identify which of four components contribute meaningfully to improvement in the outcomes; Aim 2) identify mediators (e.g., altruism, norms) and moderators (e.g., sociodemographic characteristics, distrust) of the effects of each component; and Aim 3) build the most cost-effective intervention package(s). Participants will be randomly assigned to an experimental condition, and assessed at 3- and 6-months post-baseline; N=45 participants will engage in qualitative in-depth interviews. We will also uncover, describe, and plan for implementation issues so the optimized intervention can be rapidly scaled up by community-based and outpatient health organizations.\"\n        ],\n        \"semantic_type\": \"\",\n        \"description\": \"\"\n      }\n    },\n    {\n      \"column\": \"project_type\",\n      \"properties\": {\n        \"dtype\": \"category\",\n        \"num_unique_values\": 1,\n        \"samples\": [\n          \"Full grant\"\n        ],\n        \"semantic_type\": \"\",\n        \"description\": \"\"\n      }\n    },\n    {\n      \"column\": \"fiscal_year\",\n      \"properties\": {\n        \"dtype\": \"number\",\n        \"std\": 0,\n        \"min\": 2024,\n        \"max\": 2024,\n        \"num_unique_values\": 1,\n        \"samples\": [\n          2024\n        ],\n        \"semantic_type\": \"\",\n        \"description\": \"\"\n      }\n    }\n  ]\n}"
            }
          },
          "metadata": {},
          "execution_count": 62
        }
      ]
    },
    {
      "cell_type": "code",
      "source": [
        "print(f\"There are {len(df_airtable_edit)} grants where fiscal year is 2024 and project type is Full Grant.\")"
      ],
      "metadata": {
        "colab": {
          "base_uri": "https://localhost:8080/"
        },
        "id": "UmQEtu3g5ZDr",
        "outputId": "1bee04e0-f4cc-4cbb-a38a-3a7092de25eb"
      },
      "execution_count": 63,
      "outputs": [
        {
          "output_type": "stream",
          "name": "stdout",
          "text": [
            "There are 497 grants where fiscal year is 2024 and project type is Full Grant.\n"
          ]
        }
      ]
    },
    {
      "cell_type": "markdown",
      "source": [
        "## Search NIH reporter\n",
        "\n",
        "https://reporter.nih.gov/search/ZS7AEb7vAU-pKBKTRnicRQ/projects\n",
        "\n",
        "Fiscal year: 2024\n",
        "\n",
        "Agency/Institute/Center: NIH\n",
        "\n",
        "Admin: Yes\n",
        "\n",
        "Funding: Yes\n",
        "\n",
        "Award Type: New, Competing Renewal, Noncompeting\n",
        "\n",
        "Project End Date: On or After: 02/20/2025\n",
        "\n",
        "Limit to: Project Title, Project Abstracts"
      ],
      "metadata": {
        "id": "2ZznjLtCBa83"
      }
    },
    {
      "cell_type": "code",
      "source": [
        "df_transgender = pd.read_csv(\"/content/transgender-SearchResult_Export_09Apr2025_082356.csv\", skiprows=11)"
      ],
      "metadata": {
        "id": "7W6azPgci5Yo"
      },
      "execution_count": 64,
      "outputs": []
    },
    {
      "cell_type": "code",
      "source": [
        "for project_title in df_transgender['Project Title'].head():\n",
        "  print(project_title)"
      ],
      "metadata": {
        "colab": {
          "base_uri": "https://localhost:8080/"
        },
        "id": "6EHqxja4vVEi",
        "outputId": "30bd6f9a-319d-4a78-e4f3-acd15ba70b88"
      },
      "execution_count": 65,
      "outputs": [
        {
          "output_type": "stream",
          "name": "stdout",
          "text": [
            "PRIDEnet for the All of Us Research Program \n",
            "A Gender-Affirming Stigma Intervention to Improve Substance Misuse and HIV Risk among Transgender Women\n",
            "Strategies to Prevent HIV Acquisition Among Transgender MSM in the US\n",
            "Measures of structural stigmatization and discrimination for HIV research with Latine sexual and gender minorities\n",
            "Structural Stigma and Mental Health Among Transgender and Gender Diverse Adults Living in the Rural United States\n"
          ]
        }
      ]
    },
    {
      "cell_type": "code",
      "source": [
        "df_hiv = pd.read_csv(\"/content/hiv-SearchResult_Export_09Apr2025_082556.csv\", skiprows=11)"
      ],
      "metadata": {
        "id": "Kl98aZXvjFPs"
      },
      "execution_count": 66,
      "outputs": []
    },
    {
      "cell_type": "code",
      "source": [
        "for project_title in df_hiv['Project Title'].head():\n",
        "  print(project_title)"
      ],
      "metadata": {
        "colab": {
          "base_uri": "https://localhost:8080/"
        },
        "id": "F8CYeZWvvXNN",
        "outputId": "1bad0766-9c04-4a7e-8f22-2ca1a2cf2d35"
      },
      "execution_count": 67,
      "outputs": [
        {
          "output_type": "stream",
          "name": "stdout",
          "text": [
            "Developing Cyclopeptide Nef Inhibitors to Facilitate HIV-1 Eradication\n",
            "Targeting Siglec-9/Sialoglycan Interactions to Enhance NK Functions During HIV Infection\n",
            "Implementing Integrated Services for People With HIV and Opioid Use Disorder\n",
            "EBV-Positive Diffuse Large B-cell Lymphoma: Defining Biologic Determinants of Disease Pathogenesis in Immunodeficiency\n",
            "Neural and Perceptual Mechanisms for Coding Frequency Modulation\n"
          ]
        }
      ]
    },
    {
      "cell_type": "code",
      "source": [
        "df_lgbtq = pd.read_csv(\"/content/lgbtq-SearchResult_Export_09Apr2025_082703.csv\", skiprows=11)"
      ],
      "metadata": {
        "id": "AcQBim61jPjr"
      },
      "execution_count": 68,
      "outputs": []
    },
    {
      "cell_type": "code",
      "source": [
        "for project_title in df_lgbtq['Project Title'].head():\n",
        "  print(project_title)"
      ],
      "metadata": {
        "colab": {
          "base_uri": "https://localhost:8080/"
        },
        "id": "xVXqOr6xvYv-",
        "outputId": "03ba3f8e-d9f0-4250-b2bd-708a557d3013"
      },
      "execution_count": 69,
      "outputs": [
        {
          "output_type": "stream",
          "name": "stdout",
          "text": [
            "PRIDEnet for the All of Us Research Program \n",
            "Structural Stigma and Mental Health Among Transgender and Gender Diverse Adults Living in the Rural United States\n",
            "#EverythingSucks: Understanding the bidirectional relations between vulnerability to internalizing symptoms in youth (13-20) and social mediacontent\n",
            "Supportive and restrictive factors and mental health in LGBT adolescent and young adult populations\n",
            "Multilevel strategies to understand and modify the role of structural and environmental context on HIV inequities for sexual and gender minorities of color\n"
          ]
        }
      ]
    },
    {
      "cell_type": "code",
      "source": [
        "df_vaccine_hesitancy = pd.read_csv(\"/content/vaccine-hesitancy-SearchResult_Export_10Apr2025_035737.csv\", skiprows=11)"
      ],
      "metadata": {
        "id": "eNeG2xN6ugmI"
      },
      "execution_count": 70,
      "outputs": []
    },
    {
      "cell_type": "code",
      "source": [
        "for project_title in df_vaccine_hesitancy['Project Title'].head():\n",
        "  print(project_title)"
      ],
      "metadata": {
        "colab": {
          "base_uri": "https://localhost:8080/"
        },
        "id": "FhyhG-_EvboF",
        "outputId": "a500fc7b-48e6-48ff-a9e8-3b4f937d8bde"
      },
      "execution_count": 71,
      "outputs": [
        {
          "output_type": "stream",
          "name": "stdout",
          "text": [
            "COVID-19 Vaccine Coverage and General Vaccine Hesitancy in Rural Areas in the United States\n",
            "Influence of Social Media Social Networks and Misinformation on Vaccine Acceptance Among Black and Latinx Individuals\n",
            "Community - based behavioral intervention to increase COVID - 19 and influenza vaccination for African American/ Black and Latino persons: An optimization randomized controlled trial\n",
            "Using a Telehealth Model to Address Vaccine Hesitancy and Increase Vaccine Completion Among Communities in Southeastern Louisiana\n",
            "Conversational Agents to Improve HPV Vaccine Acceptance in Primary Care\n"
          ]
        }
      ]
    },
    {
      "cell_type": "markdown",
      "source": [
        "## Compare NIH reporter results with list of cancelled projects"
      ],
      "metadata": {
        "id": "K7D2mjqV4NzR"
      }
    },
    {
      "cell_type": "code",
      "source": [
        "data = []"
      ],
      "metadata": {
        "id": "aT2vS6i58XzX"
      },
      "execution_count": 72,
      "outputs": []
    },
    {
      "cell_type": "code",
      "source": [
        "def get_results_by_field(field_of_study, df):\n",
        "  \"\"\"\n",
        "  df is the list of projects by topic, exported from the NIH reporter\n",
        "  df_airtable is the list of terminated projects\n",
        "\n",
        "  1. Find the number of terminated projects which are in the NIH reporter export\n",
        "  2. Determine what proportion of projects listed in the NIH reported have been cancelled\n",
        "  \"\"\"\n",
        "  common_titles = []\n",
        "  for title1 in df_airtable[\"project_title\"]:\n",
        "      for title2 in df[\"Project Title\"]:\n",
        "          # Basic string matching (case-insensitive)\n",
        "          if isinstance(title1, str) and isinstance(title2, str) and title1.lower() in title2.lower():\n",
        "              common_titles.append(title1)\n",
        "          elif isinstance(title1, str) and isinstance(title2, str) and title2.lower() in title1.lower():\n",
        "              common_titles.append(title2)\n",
        "\n",
        "  # Remove duplicates while preserving order\n",
        "  common_titles_unique = []\n",
        "  for title in common_titles:\n",
        "    if title not in common_titles_unique:\n",
        "      common_titles_unique.append(title)\n",
        "\n",
        "  print(f\"Number of projects in NIH reporter {len(df)}\")\n",
        "  print(f\"Number of common titles found: {len(common_titles_unique)}\")\n",
        "\n",
        "  percent_common_titles = len(common_titles_unique) / len(df) * 100\n",
        "\n",
        "  print(f\"Percent common titles: {percent_common_titles:.2f}%\")\n",
        "\n",
        "  # Append a dictionary for the current term to the list\n",
        "  data.append({\n",
        "      'field_of_study': field_of_study,\n",
        "      'nih_count': len(df),\n",
        "      'num_common_titles': len(common_titles_unique),\n",
        "      'percent_common_titles': percent_common_titles\n",
        "  })"
      ],
      "metadata": {
        "id": "WXLceZDIkxvq"
      },
      "execution_count": 73,
      "outputs": []
    },
    {
      "cell_type": "code",
      "source": [
        "# Transgender\n",
        "get_results_by_field(\"transgender\", df_transgender)"
      ],
      "metadata": {
        "colab": {
          "base_uri": "https://localhost:8080/"
        },
        "id": "NNffgRdOoCGn",
        "outputId": "862ab5bd-d8ee-4aa4-f766-962ea2a65f0e"
      },
      "execution_count": 74,
      "outputs": [
        {
          "output_type": "stream",
          "name": "stdout",
          "text": [
            "Number of projects in NIH reporter 201\n",
            "Number of common titles found: 92\n",
            "Percent common titles: 45.77%\n"
          ]
        }
      ]
    },
    {
      "cell_type": "code",
      "source": [
        "# HIV\n",
        "get_results_by_field(\"hiv\", df_hiv)"
      ],
      "metadata": {
        "colab": {
          "base_uri": "https://localhost:8080/"
        },
        "id": "rd5J060ZoGqY",
        "outputId": "3a9c8b71-e73c-4236-cecd-eac464eac6c7"
      },
      "execution_count": 75,
      "outputs": [
        {
          "output_type": "stream",
          "name": "stdout",
          "text": [
            "Number of projects in NIH reporter 3781\n",
            "Number of common titles found: 129\n",
            "Percent common titles: 3.41%\n"
          ]
        }
      ]
    },
    {
      "cell_type": "code",
      "source": [
        "# LGBTQ\n",
        "get_results_by_field(\"lgbtq\", df_lgbtq)"
      ],
      "metadata": {
        "colab": {
          "base_uri": "https://localhost:8080/"
        },
        "id": "3sVfsbV-oJxJ",
        "outputId": "ceca15ff-a819-48d7-9f2c-edc3b6fa4fdd"
      },
      "execution_count": 76,
      "outputs": [
        {
          "output_type": "stream",
          "name": "stdout",
          "text": [
            "Number of projects in NIH reporter 77\n",
            "Number of common titles found: 39\n",
            "Percent common titles: 50.65%\n"
          ]
        }
      ]
    },
    {
      "cell_type": "code",
      "source": [
        "# Vaccine hesitancy\n",
        "get_results_by_field(\"vaccine hesitancy\", df_vaccine_hesitancy)"
      ],
      "metadata": {
        "colab": {
          "base_uri": "https://localhost:8080/"
        },
        "id": "A9vBTVsavze0",
        "outputId": "9372052e-27d9-4a34-bed5-01b3a2983911"
      },
      "execution_count": 77,
      "outputs": [
        {
          "output_type": "stream",
          "name": "stdout",
          "text": [
            "Number of projects in NIH reporter 44\n",
            "Number of common titles found: 20\n",
            "Percent common titles: 45.45%\n"
          ]
        }
      ]
    },
    {
      "cell_type": "code",
      "source": [
        "# Create a Pandas DataFrame from the data list\n",
        "data_df = pd.DataFrame(data).set_index('field_of_study')"
      ],
      "metadata": {
        "id": "71Y_0dJmQbTV"
      },
      "execution_count": 78,
      "outputs": []
    },
    {
      "cell_type": "code",
      "source": [
        "data_df.head()"
      ],
      "metadata": {
        "colab": {
          "base_uri": "https://localhost:8080/",
          "height": 206
        },
        "id": "1leuL4nZ9EaQ",
        "outputId": "351e222e-a95d-40ff-abb0-e6b48481ceb2"
      },
      "execution_count": 79,
      "outputs": [
        {
          "output_type": "execute_result",
          "data": {
            "text/plain": [
              "                   nih_count  num_common_titles  percent_common_titles\n",
              "field_of_study                                                        \n",
              "transgender              201                 92              45.771144\n",
              "hiv                     3781                129               3.411796\n",
              "lgbtq                     77                 39              50.649351\n",
              "vaccine hesitancy         44                 20              45.454545"
            ],
            "text/html": [
              "\n",
              "  <div id=\"df-951d1aa7-a62b-4f6e-a903-43091e05a5f5\" class=\"colab-df-container\">\n",
              "    <div>\n",
              "<style scoped>\n",
              "    .dataframe tbody tr th:only-of-type {\n",
              "        vertical-align: middle;\n",
              "    }\n",
              "\n",
              "    .dataframe tbody tr th {\n",
              "        vertical-align: top;\n",
              "    }\n",
              "\n",
              "    .dataframe thead th {\n",
              "        text-align: right;\n",
              "    }\n",
              "</style>\n",
              "<table border=\"1\" class=\"dataframe\">\n",
              "  <thead>\n",
              "    <tr style=\"text-align: right;\">\n",
              "      <th></th>\n",
              "      <th>nih_count</th>\n",
              "      <th>num_common_titles</th>\n",
              "      <th>percent_common_titles</th>\n",
              "    </tr>\n",
              "    <tr>\n",
              "      <th>field_of_study</th>\n",
              "      <th></th>\n",
              "      <th></th>\n",
              "      <th></th>\n",
              "    </tr>\n",
              "  </thead>\n",
              "  <tbody>\n",
              "    <tr>\n",
              "      <th>transgender</th>\n",
              "      <td>201</td>\n",
              "      <td>92</td>\n",
              "      <td>45.771144</td>\n",
              "    </tr>\n",
              "    <tr>\n",
              "      <th>hiv</th>\n",
              "      <td>3781</td>\n",
              "      <td>129</td>\n",
              "      <td>3.411796</td>\n",
              "    </tr>\n",
              "    <tr>\n",
              "      <th>lgbtq</th>\n",
              "      <td>77</td>\n",
              "      <td>39</td>\n",
              "      <td>50.649351</td>\n",
              "    </tr>\n",
              "    <tr>\n",
              "      <th>vaccine hesitancy</th>\n",
              "      <td>44</td>\n",
              "      <td>20</td>\n",
              "      <td>45.454545</td>\n",
              "    </tr>\n",
              "  </tbody>\n",
              "</table>\n",
              "</div>\n",
              "    <div class=\"colab-df-buttons\">\n",
              "\n",
              "  <div class=\"colab-df-container\">\n",
              "    <button class=\"colab-df-convert\" onclick=\"convertToInteractive('df-951d1aa7-a62b-4f6e-a903-43091e05a5f5')\"\n",
              "            title=\"Convert this dataframe to an interactive table.\"\n",
              "            style=\"display:none;\">\n",
              "\n",
              "  <svg xmlns=\"http://www.w3.org/2000/svg\" height=\"24px\" viewBox=\"0 -960 960 960\">\n",
              "    <path d=\"M120-120v-720h720v720H120Zm60-500h600v-160H180v160Zm220 220h160v-160H400v160Zm0 220h160v-160H400v160ZM180-400h160v-160H180v160Zm440 0h160v-160H620v160ZM180-180h160v-160H180v160Zm440 0h160v-160H620v160Z\"/>\n",
              "  </svg>\n",
              "    </button>\n",
              "\n",
              "  <style>\n",
              "    .colab-df-container {\n",
              "      display:flex;\n",
              "      gap: 12px;\n",
              "    }\n",
              "\n",
              "    .colab-df-convert {\n",
              "      background-color: #E8F0FE;\n",
              "      border: none;\n",
              "      border-radius: 50%;\n",
              "      cursor: pointer;\n",
              "      display: none;\n",
              "      fill: #1967D2;\n",
              "      height: 32px;\n",
              "      padding: 0 0 0 0;\n",
              "      width: 32px;\n",
              "    }\n",
              "\n",
              "    .colab-df-convert:hover {\n",
              "      background-color: #E2EBFA;\n",
              "      box-shadow: 0px 1px 2px rgba(60, 64, 67, 0.3), 0px 1px 3px 1px rgba(60, 64, 67, 0.15);\n",
              "      fill: #174EA6;\n",
              "    }\n",
              "\n",
              "    .colab-df-buttons div {\n",
              "      margin-bottom: 4px;\n",
              "    }\n",
              "\n",
              "    [theme=dark] .colab-df-convert {\n",
              "      background-color: #3B4455;\n",
              "      fill: #D2E3FC;\n",
              "    }\n",
              "\n",
              "    [theme=dark] .colab-df-convert:hover {\n",
              "      background-color: #434B5C;\n",
              "      box-shadow: 0px 1px 3px 1px rgba(0, 0, 0, 0.15);\n",
              "      filter: drop-shadow(0px 1px 2px rgba(0, 0, 0, 0.3));\n",
              "      fill: #FFFFFF;\n",
              "    }\n",
              "  </style>\n",
              "\n",
              "    <script>\n",
              "      const buttonEl =\n",
              "        document.querySelector('#df-951d1aa7-a62b-4f6e-a903-43091e05a5f5 button.colab-df-convert');\n",
              "      buttonEl.style.display =\n",
              "        google.colab.kernel.accessAllowed ? 'block' : 'none';\n",
              "\n",
              "      async function convertToInteractive(key) {\n",
              "        const element = document.querySelector('#df-951d1aa7-a62b-4f6e-a903-43091e05a5f5');\n",
              "        const dataTable =\n",
              "          await google.colab.kernel.invokeFunction('convertToInteractive',\n",
              "                                                    [key], {});\n",
              "        if (!dataTable) return;\n",
              "\n",
              "        const docLinkHtml = 'Like what you see? Visit the ' +\n",
              "          '<a target=\"_blank\" href=https://colab.research.google.com/notebooks/data_table.ipynb>data table notebook</a>'\n",
              "          + ' to learn more about interactive tables.';\n",
              "        element.innerHTML = '';\n",
              "        dataTable['output_type'] = 'display_data';\n",
              "        await google.colab.output.renderOutput(dataTable, element);\n",
              "        const docLink = document.createElement('div');\n",
              "        docLink.innerHTML = docLinkHtml;\n",
              "        element.appendChild(docLink);\n",
              "      }\n",
              "    </script>\n",
              "  </div>\n",
              "\n",
              "\n",
              "<div id=\"df-13c2d946-2cbc-461e-8bb8-c24aebecb0b3\">\n",
              "  <button class=\"colab-df-quickchart\" onclick=\"quickchart('df-13c2d946-2cbc-461e-8bb8-c24aebecb0b3')\"\n",
              "            title=\"Suggest charts\"\n",
              "            style=\"display:none;\">\n",
              "\n",
              "<svg xmlns=\"http://www.w3.org/2000/svg\" height=\"24px\"viewBox=\"0 0 24 24\"\n",
              "     width=\"24px\">\n",
              "    <g>\n",
              "        <path d=\"M19 3H5c-1.1 0-2 .9-2 2v14c0 1.1.9 2 2 2h14c1.1 0 2-.9 2-2V5c0-1.1-.9-2-2-2zM9 17H7v-7h2v7zm4 0h-2V7h2v10zm4 0h-2v-4h2v4z\"/>\n",
              "    </g>\n",
              "</svg>\n",
              "  </button>\n",
              "\n",
              "<style>\n",
              "  .colab-df-quickchart {\n",
              "      --bg-color: #E8F0FE;\n",
              "      --fill-color: #1967D2;\n",
              "      --hover-bg-color: #E2EBFA;\n",
              "      --hover-fill-color: #174EA6;\n",
              "      --disabled-fill-color: #AAA;\n",
              "      --disabled-bg-color: #DDD;\n",
              "  }\n",
              "\n",
              "  [theme=dark] .colab-df-quickchart {\n",
              "      --bg-color: #3B4455;\n",
              "      --fill-color: #D2E3FC;\n",
              "      --hover-bg-color: #434B5C;\n",
              "      --hover-fill-color: #FFFFFF;\n",
              "      --disabled-bg-color: #3B4455;\n",
              "      --disabled-fill-color: #666;\n",
              "  }\n",
              "\n",
              "  .colab-df-quickchart {\n",
              "    background-color: var(--bg-color);\n",
              "    border: none;\n",
              "    border-radius: 50%;\n",
              "    cursor: pointer;\n",
              "    display: none;\n",
              "    fill: var(--fill-color);\n",
              "    height: 32px;\n",
              "    padding: 0;\n",
              "    width: 32px;\n",
              "  }\n",
              "\n",
              "  .colab-df-quickchart:hover {\n",
              "    background-color: var(--hover-bg-color);\n",
              "    box-shadow: 0 1px 2px rgba(60, 64, 67, 0.3), 0 1px 3px 1px rgba(60, 64, 67, 0.15);\n",
              "    fill: var(--button-hover-fill-color);\n",
              "  }\n",
              "\n",
              "  .colab-df-quickchart-complete:disabled,\n",
              "  .colab-df-quickchart-complete:disabled:hover {\n",
              "    background-color: var(--disabled-bg-color);\n",
              "    fill: var(--disabled-fill-color);\n",
              "    box-shadow: none;\n",
              "  }\n",
              "\n",
              "  .colab-df-spinner {\n",
              "    border: 2px solid var(--fill-color);\n",
              "    border-color: transparent;\n",
              "    border-bottom-color: var(--fill-color);\n",
              "    animation:\n",
              "      spin 1s steps(1) infinite;\n",
              "  }\n",
              "\n",
              "  @keyframes spin {\n",
              "    0% {\n",
              "      border-color: transparent;\n",
              "      border-bottom-color: var(--fill-color);\n",
              "      border-left-color: var(--fill-color);\n",
              "    }\n",
              "    20% {\n",
              "      border-color: transparent;\n",
              "      border-left-color: var(--fill-color);\n",
              "      border-top-color: var(--fill-color);\n",
              "    }\n",
              "    30% {\n",
              "      border-color: transparent;\n",
              "      border-left-color: var(--fill-color);\n",
              "      border-top-color: var(--fill-color);\n",
              "      border-right-color: var(--fill-color);\n",
              "    }\n",
              "    40% {\n",
              "      border-color: transparent;\n",
              "      border-right-color: var(--fill-color);\n",
              "      border-top-color: var(--fill-color);\n",
              "    }\n",
              "    60% {\n",
              "      border-color: transparent;\n",
              "      border-right-color: var(--fill-color);\n",
              "    }\n",
              "    80% {\n",
              "      border-color: transparent;\n",
              "      border-right-color: var(--fill-color);\n",
              "      border-bottom-color: var(--fill-color);\n",
              "    }\n",
              "    90% {\n",
              "      border-color: transparent;\n",
              "      border-bottom-color: var(--fill-color);\n",
              "    }\n",
              "  }\n",
              "</style>\n",
              "\n",
              "  <script>\n",
              "    async function quickchart(key) {\n",
              "      const quickchartButtonEl =\n",
              "        document.querySelector('#' + key + ' button');\n",
              "      quickchartButtonEl.disabled = true;  // To prevent multiple clicks.\n",
              "      quickchartButtonEl.classList.add('colab-df-spinner');\n",
              "      try {\n",
              "        const charts = await google.colab.kernel.invokeFunction(\n",
              "            'suggestCharts', [key], {});\n",
              "      } catch (error) {\n",
              "        console.error('Error during call to suggestCharts:', error);\n",
              "      }\n",
              "      quickchartButtonEl.classList.remove('colab-df-spinner');\n",
              "      quickchartButtonEl.classList.add('colab-df-quickchart-complete');\n",
              "    }\n",
              "    (() => {\n",
              "      let quickchartButtonEl =\n",
              "        document.querySelector('#df-13c2d946-2cbc-461e-8bb8-c24aebecb0b3 button');\n",
              "      quickchartButtonEl.style.display =\n",
              "        google.colab.kernel.accessAllowed ? 'block' : 'none';\n",
              "    })();\n",
              "  </script>\n",
              "</div>\n",
              "\n",
              "    </div>\n",
              "  </div>\n"
            ],
            "application/vnd.google.colaboratory.intrinsic+json": {
              "type": "dataframe",
              "variable_name": "data_df",
              "summary": "{\n  \"name\": \"data_df\",\n  \"rows\": 4,\n  \"fields\": [\n    {\n      \"column\": \"field_of_study\",\n      \"properties\": {\n        \"dtype\": \"string\",\n        \"num_unique_values\": 4,\n        \"samples\": [\n          \"hiv\",\n          \"vaccine hesitancy\",\n          \"transgender\"\n        ],\n        \"semantic_type\": \"\",\n        \"description\": \"\"\n      }\n    },\n    {\n      \"column\": \"nih_count\",\n      \"properties\": {\n        \"dtype\": \"number\",\n        \"std\": 1838,\n        \"min\": 44,\n        \"max\": 3781,\n        \"num_unique_values\": 4,\n        \"samples\": [\n          3781,\n          44,\n          201\n        ],\n        \"semantic_type\": \"\",\n        \"description\": \"\"\n      }\n    },\n    {\n      \"column\": \"num_common_titles\",\n      \"properties\": {\n        \"dtype\": \"number\",\n        \"std\": 49,\n        \"min\": 20,\n        \"max\": 129,\n        \"num_unique_values\": 4,\n        \"samples\": [\n          129,\n          20,\n          92\n        ],\n        \"semantic_type\": \"\",\n        \"description\": \"\"\n      }\n    },\n    {\n      \"column\": \"percent_common_titles\",\n      \"properties\": {\n        \"dtype\": \"number\",\n        \"std\": 22.068410526192356,\n        \"min\": 3.41179582121132,\n        \"max\": 50.649350649350644,\n        \"num_unique_values\": 4,\n        \"samples\": [\n          3.41179582121132,\n          45.45454545454545,\n          45.77114427860697\n        ],\n        \"semantic_type\": \"\",\n        \"description\": \"\"\n      }\n    }\n  ]\n}"
            }
          },
          "metadata": {},
          "execution_count": 79
        }
      ]
    },
    {
      "cell_type": "code",
      "source": [
        "data_df.to_csv('/content/percent-common-titles-nih-reporter.csv')"
      ],
      "metadata": {
        "id": "LFzWwSPt9Fa6"
      },
      "execution_count": 80,
      "outputs": []
    }
  ]
}